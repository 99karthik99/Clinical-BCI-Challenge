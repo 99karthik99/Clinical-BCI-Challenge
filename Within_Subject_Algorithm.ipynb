{
  "nbformat": 4,
  "nbformat_minor": 0,
  "metadata": {
    "colab": {
      "name": "Within Subject Algorithm",
      "provenance": []
    },
    "kernelspec": {
      "name": "python3",
      "display_name": "Python 3"
    },
    "accelerator": "GPU"
  },
  "cells": [
    {
      "cell_type": "code",
      "metadata": {
        "id": "QFhO4KvKmj_U",
        "colab_type": "code",
        "colab": {}
      },
      "source": [
        "from __future__ import print_function\n",
        "from scipy import io\n",
        "from sklearn.model_selection import train_test_split\n",
        "import numpy as np\n",
        "import matplotlib.pylab as plt\n",
        "from sklearn.ensemble import RandomForestClassifier\n",
        "from sklearn.calibration import CalibratedClassifierCV\n",
        "from sklearn.metrics import log_loss\n",
        "from xgboost import XGBClassifier"
      ],
      "execution_count": null,
      "outputs": []
    },
    {
      "cell_type": "code",
      "metadata": {
        "id": "bHAcDObq14Tz",
        "colab_type": "code",
        "colab": {}
      },
      "source": [
        "#Initialize patient no.\n",
        "patient = 7"
      ],
      "execution_count": 2,
      "outputs": []
    },
    {
      "cell_type": "code",
      "metadata": {
        "id": "eAthyJImwqT4",
        "colab_type": "code",
        "colab": {
          "base_uri": "https://localhost:8080/",
          "height": 51
        },
        "outputId": "0be623f1-f15a-463a-ff44-1b7d07938079"
      },
      "source": [
        "# Download and save the dataset to your drive and put its path in the below function\n",
        "d=(io.loadmat('/content/drive/My Drive/dataset/parsed_P0'+str(patient)+'T.mat'))\n",
        "trm=d['RawEEGData'][0].flatten()\n",
        "trm=np.abs(np.fft.fft(trm))\n",
        "ans=np.array(np.around(trm),dtype=int)\n",
        "for i in range(1,80):\n",
        "    trm=d['RawEEGData'][i].flatten()\n",
        "    trm=np.abs(np.fft.fft(trm))\n",
        "    ans=np.vstack((ans,trm))\n",
        "l=(io.loadmat('/content/drive/My Drive/dataset/parsed_P0'+str(patient)+'T.mat'))['Labels']\n",
        "\n",
        "Y=l\n",
        "X=ans\n",
        "\n",
        "Y.resize(80,)\n",
        "print(X.shape)\n",
        "print(Y.shape)"
      ],
      "execution_count": 3,
      "outputs": [
        {
          "output_type": "stream",
          "text": [
            "(80, 49152)\n",
            "(80,)\n"
          ],
          "name": "stdout"
        }
      ]
    },
    {
      "cell_type": "code",
      "metadata": {
        "id": "LCcFkn-ax_ax",
        "colab_type": "code",
        "colab": {}
      },
      "source": [
        "X_train = X\n",
        "y_train = Y"
      ],
      "execution_count": 4,
      "outputs": []
    },
    {
      "cell_type": "code",
      "metadata": {
        "id": "d-6phaqtxWjR",
        "colab_type": "code",
        "colab": {
          "base_uri": "https://localhost:8080/",
          "height": 51
        },
        "outputId": "34f5ac93-a6f3-4ece-a6ea-5d125ade4d2b"
      },
      "source": [
        "d=(io.loadmat('/content/drive/My Drive/dataset/parsed_P0'+str(patient)+'E.mat'))\n",
        "print(d['RawEEGData'].shape)\n",
        "trm=d['RawEEGData'][0].flatten()\n",
        "trm=np.abs(np.fft.fft(trm))\n",
        "ans=np.array(np.around(trm),dtype=int)\n",
        "for i in range(1,40):\n",
        "    trm=d['RawEEGData'][i].flatten()\n",
        "    trm=np.abs(np.fft.fft(trm))\n",
        "    ans=np.vstack((ans,trm))\n",
        "\n",
        "X_test = ans\n",
        "print(X_test.shape)"
      ],
      "execution_count": 5,
      "outputs": [
        {
          "output_type": "stream",
          "text": [
            "(40, 12, 4096)\n",
            "(40, 49152)\n"
          ],
          "name": "stdout"
        }
      ]
    },
    {
      "cell_type": "code",
      "metadata": {
        "id": "j3jbWLYgxKZ_",
        "colab_type": "code",
        "colab": {}
      },
      "source": [
        "X_train, X_cv, y_train, y_cv = train_test_split(X_train, y_train,stratify=y_train,test_size=0.20)"
      ],
      "execution_count": 6,
      "outputs": []
    },
    {
      "cell_type": "code",
      "metadata": {
        "id": "BlhgyxiGyo-Z",
        "colab_type": "code",
        "colab": {
          "base_uri": "https://localhost:8080/",
          "height": 68
        },
        "outputId": "ffecbe3b-8f84-4f57-eb81-87df3ca9a7d8"
      },
      "source": [
        "print('Number of data points in train data:', X_train.shape[0])\n",
        "print('Number of data points in test data:', X_test.shape[0])\n",
        "print('Number of data points in cross validation data:', X_cv.shape[0])"
      ],
      "execution_count": 7,
      "outputs": [
        {
          "output_type": "stream",
          "text": [
            "Number of data points in train data: 64\n",
            "Number of data points in test data: 40\n",
            "Number of data points in cross validation data: 16\n"
          ],
          "name": "stdout"
        }
      ]
    },
    {
      "cell_type": "code",
      "metadata": {
        "id": "c6Il-V08yxcU",
        "colab_type": "code",
        "colab": {
          "base_uri": "https://localhost:8080/",
          "height": 533
        },
        "outputId": "46a02a36-d2ef-4d78-9026-7d841cc6104b"
      },
      "source": [
        "alpha=[10,50,100,500,1000,2000]\n",
        "cv_log_error_array=[]\n",
        "for i in alpha:\n",
        "    print('Processing alpha :',i)\n",
        "    x_cfl=XGBClassifier(n_estimators=i,nthread=-1)\n",
        "    x_cfl.fit(X_train,y_train)\n",
        "    sig_clf = CalibratedClassifierCV(x_cfl, method=\"sigmoid\")\n",
        "    sig_clf.fit(X_train, y_train)\n",
        "    predict_y = sig_clf.predict_proba(X_cv)\n",
        "    cv_log_error_array.append(log_loss(y_cv, predict_y, labels=x_cfl.classes_, eps=1e-15))\n",
        "\n",
        "for i in range(len(cv_log_error_array)):\n",
        "    print ('log_loss for c = ',alpha[i],'is',cv_log_error_array[i])\n",
        "\n",
        "\n",
        "best_alpha = np.argmin(cv_log_error_array)\n",
        "\n",
        "fig, ax = plt.subplots()\n",
        "ax.plot(alpha, cv_log_error_array,c='g')\n",
        "for i, txt in enumerate(np.round(cv_log_error_array,3)):\n",
        "    ax.annotate((alpha[i],np.round(txt,3)), (alpha[i],cv_log_error_array[i]))\n",
        "plt.grid()\n",
        "plt.title(\"Cross Validation Error for each alpha\")\n",
        "plt.xlabel(\"Alpha i's\")\n",
        "plt.ylabel(\"Error measure\")\n",
        "plt.show()\n",
        "\n",
        "x_cfl=XGBClassifier(n_estimators=alpha[best_alpha],nthread=-1)\n",
        "x_cfl.fit(X_train,y_train)\n",
        "sig_clf = CalibratedClassifierCV(x_cfl, method=\"sigmoid\")\n",
        "sig_clf.fit(X_train, y_train)\n",
        "    \n",
        "predict_y = sig_clf.predict_proba(X_train)\n",
        "print ('For values of best alpha = ', alpha[best_alpha], \"The train log loss is:\",log_loss(y_train, predict_y))\n",
        "predict_y = sig_clf.predict_proba(X_cv)\n",
        "print('For values of best alpha = ', alpha[best_alpha], \"The cross validation log loss is:\",log_loss(y_cv, predict_y))"
      ],
      "execution_count": 9,
      "outputs": [
        {
          "output_type": "stream",
          "text": [
            "Processing alpha : 10\n",
            "Processing alpha : 50\n",
            "Processing alpha : 100\n",
            "Processing alpha : 500\n",
            "Processing alpha : 1000\n",
            "Processing alpha : 2000\n",
            "log_loss for c =  10 is 0.5880181242276998\n",
            "log_loss for c =  50 is 0.5476509735200985\n",
            "log_loss for c =  100 is 0.5409491840806937\n",
            "log_loss for c =  500 is 0.540951926061695\n",
            "log_loss for c =  1000 is 0.5409552243900394\n",
            "log_loss for c =  2000 is 0.540954983677888\n"
          ],
          "name": "stdout"
        },
        {
          "output_type": "display_data",
          "data": {
            "image/png": "[encoded data removed]",
            "text/plain": [
              "<Figure size 432x288 with 1 Axes>"
            ]
          },
          "metadata": {
            "tags": [],
            "needs_background": "light"
          }
        },
        {
          "output_type": "stream",
          "text": [
            "For values of best alpha =  100 The train log loss is: 0.23015564647825937\n",
            "For values of best alpha =  100 The cross validation log loss is: 0.5409491840806937\n"
          ],
          "name": "stdout"
        }
      ]
    },
    {
      "cell_type": "code",
      "metadata": {
        "id": "F42QCgnGzKZr",
        "colab_type": "code",
        "colab": {
          "base_uri": "https://localhost:8080/",
          "height": 697
        },
        "outputId": "9e00be1a-daf3-46a2-84f4-884b2e4c4157"
      },
      "source": [
        "predict_y = sig_clf.predict_proba(X_test)\n",
        "print(predict_y)"
      ],
      "execution_count": 10,
      "outputs": [
        {
          "output_type": "stream",
          "text": [
            "[[0.52901829 0.47098171]\n",
            " [0.67115235 0.32884765]\n",
            " [0.65957254 0.34042746]\n",
            " [0.45035194 0.54964806]\n",
            " [0.55151182 0.44848818]\n",
            " [0.27461339 0.72538661]\n",
            " [0.54158597 0.45841403]\n",
            " [0.55526447 0.44473553]\n",
            " [0.52948081 0.47051919]\n",
            " [0.44713996 0.55286004]\n",
            " [0.53846437 0.46153563]\n",
            " [0.49524848 0.50475152]\n",
            " [0.58708442 0.41291558]\n",
            " [0.56070502 0.43929498]\n",
            " [0.62963909 0.37036091]\n",
            " [0.61456446 0.38543554]\n",
            " [0.70236519 0.29763481]\n",
            " [0.6496413  0.3503587 ]\n",
            " [0.70301726 0.29698274]\n",
            " [0.56538179 0.43461821]\n",
            " [0.68499541 0.31500459]\n",
            " [0.69037358 0.30962642]\n",
            " [0.692553   0.307447  ]\n",
            " [0.5261292  0.4738708 ]\n",
            " [0.72792226 0.27207774]\n",
            " [0.64172078 0.35827922]\n",
            " [0.72195462 0.27804538]\n",
            " [0.68138794 0.31861206]\n",
            " [0.65194831 0.34805169]\n",
            " [0.66156329 0.33843671]\n",
            " [0.63521251 0.36478749]\n",
            " [0.58715633 0.41284367]\n",
            " [0.56945952 0.43054048]\n",
            " [0.77492812 0.22507188]\n",
            " [0.72951958 0.27048042]\n",
            " [0.69684835 0.30315165]\n",
            " [0.71055945 0.28944055]\n",
            " [0.73818576 0.26181424]\n",
            " [0.77374608 0.22625392]\n",
            " [0.78320179 0.21679821]]\n"
          ],
          "name": "stdout"
        }
      ]
    },
    {
      "cell_type": "code",
      "metadata": {
        "id": "JjOlIgYu7Ocx",
        "colab_type": "code",
        "colab": {
          "base_uri": "https://localhost:8080/",
          "height": 697
        },
        "outputId": "75ed55de-79f5-4881-e69d-9a424b9a7031"
      },
      "source": [
        "probas = predict_y\n",
        "labels = np.argmax(probas, axis=-1)    \n",
        "for i in range(40):\n",
        "  if labels[i]==0:\n",
        "    labels[i]=1\n",
        "  else:\n",
        "    labels[i]=2\n",
        "\n",
        "for i in range(40):\n",
        "  print(labels[i])"
      ],
      "execution_count": 11,
      "outputs": [
        {
          "output_type": "stream",
          "text": [
            "1\n",
            "1\n",
            "1\n",
            "2\n",
            "1\n",
            "2\n",
            "1\n",
            "1\n",
            "1\n",
            "2\n",
            "1\n",
            "2\n",
            "1\n",
            "1\n",
            "1\n",
            "1\n",
            "1\n",
            "1\n",
            "1\n",
            "1\n",
            "1\n",
            "1\n",
            "1\n",
            "1\n",
            "1\n",
            "1\n",
            "1\n",
            "1\n",
            "1\n",
            "1\n",
            "1\n",
            "1\n",
            "1\n",
            "1\n",
            "1\n",
            "1\n",
            "1\n",
            "1\n",
            "1\n",
            "1\n"
          ],
          "name": "stdout"
        }
      ]
    }
  ]
}